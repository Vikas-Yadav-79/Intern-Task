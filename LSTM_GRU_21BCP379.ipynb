{
  "nbformat": 4,
  "nbformat_minor": 0,
  "metadata": {
    "colab": {
      "provenance": [],
      "gpuType": "T4",
      "authorship_tag": "ABX9TyMqx5hjQpdOE+Ba5aiM7jYp",
      "include_colab_link": true
    },
    "kernelspec": {
      "name": "python3",
      "display_name": "Python 3"
    },
    "language_info": {
      "name": "python"
    },
    "accelerator": "GPU"
  },
  "cells": [
    {
      "cell_type": "markdown",
      "metadata": {
        "id": "view-in-github",
        "colab_type": "text"
      },
      "source": [
        "<a href=\"https://colab.research.google.com/github/Vikas-Yadav-79/Intern-Task/blob/IMD/LSTM_GRU_21BCP379.ipynb\" target=\"_parent\"><img src=\"https://colab.research.google.com/assets/colab-badge.svg\" alt=\"Open In Colab\"/></a>"
      ]
    },
    {
      "cell_type": "code",
      "execution_count": null,
      "metadata": {
        "id": "8NrwXhO982yK"
      },
      "outputs": [],
      "source": []
    },
    {
      "cell_type": "code",
      "source": [
        "import pandas as pd\n",
        "\n",
        "df = pd.read_csv('/content/bbc (1).csv')\n",
        "print(df.head())\n"
      ],
      "metadata": {
        "colab": {
          "base_uri": "https://localhost:8080/"
        },
        "id": "7Q0GkbHi9C_O",
        "outputId": "f8cce5eb-eefc-41c3-df29-b0e85097915e"
      },
      "execution_count": 2,
      "outputs": [
        {
          "output_type": "stream",
          "name": "stdout",
          "text": [
            "   Unnamed: 0                                            Article     Class\n",
            "0           0  Ad sales boost Time Warner profit\\n\\nQuarterly...  business\n",
            "1           1  Dollar gains on Greenspan speech\\n\\nThe dollar...  business\n",
            "2           2  Yukos unit buyer faces loan claim\\n\\nThe owner...  business\n",
            "3           3  High fuel prices hit BA's profits\\n\\nBritish A...  business\n",
            "4           4  Pernod takeover talk lifts Domecq\\n\\nShares in...  business\n"
          ]
        }
      ]
    },
    {
      "cell_type": "code",
      "source": [
        "import nltk\n",
        "from nltk.corpus import stopwords\n",
        "import string\n",
        "\n",
        "nltk.download('stopwords')\n",
        "\n",
        "def preprocess_text(text):\n",
        "    stop_words = set(stopwords.words('english'))\n",
        "    text = text.lower()  # Convert to lowercase\n",
        "    text = ''.join([c for c in text if c not in string.punctuation])  # Remove punctuation\n",
        "    text = ' '.join([word for word in text.split() if word not in stop_words])  # Remove stopwords\n",
        "    return text\n",
        "\n",
        "df['Article'] = df['Article'].apply(preprocess_text)\n",
        "print(df['Article'].head())\n"
      ],
      "metadata": {
        "id": "oc8jU8wOK3uP"
      },
      "execution_count": null,
      "outputs": []
    },
    {
      "cell_type": "code",
      "source": [
        "from keras.preprocessing.text import Tokenizer\n",
        "\n",
        "tokenizer = Tokenizer()\n",
        "tokenizer.fit_on_texts(df['Article'])\n",
        "\n",
        "sequences = tokenizer.texts_to_sequences(df['Article'])\n",
        "\n",
        "word_index = tokenizer.word_index\n",
        "print(f\"Found {len(word_index)} unique tokens.\")\n"
      ],
      "metadata": {
        "colab": {
          "base_uri": "https://localhost:8080/"
        },
        "id": "_vGvW0x19Sgd",
        "outputId": "c535b5a2-bcfe-48e1-d1e6-e84cc4f6d840"
      },
      "execution_count": 4,
      "outputs": [
        {
          "output_type": "stream",
          "name": "stdout",
          "text": [
            "Found 32069 unique tokens.\n"
          ]
        }
      ]
    },
    {
      "cell_type": "code",
      "source": [
        "from keras.preprocessing.sequence import pad_sequences\n",
        "\n",
        "max_len = max(len(seq) for seq in sequences)\n",
        "\n",
        "data = pad_sequences(sequences, maxlen=max_len)\n",
        "print(data.shape)\n"
      ],
      "metadata": {
        "colab": {
          "base_uri": "https://localhost:8080/"
        },
        "id": "jcKfsHpp9VEO",
        "outputId": "b91f31bb-e92e-4039-cd90-930eba34dd57"
      },
      "execution_count": 5,
      "outputs": [
        {
          "output_type": "stream",
          "name": "stdout",
          "text": [
            "(1912, 2237)\n"
          ]
        }
      ]
    },
    {
      "cell_type": "code",
      "source": [
        "from sklearn.model_selection import train_test_split\n",
        "from sklearn.preprocessing import LabelEncoder\n",
        "from keras.utils import to_categorical\n",
        "\n",
        "label_encoder = LabelEncoder()\n",
        "labels = label_encoder.fit_transform(df['Class'])\n",
        "labels = to_categorical(labels)  # Convert to one-hot encoded format\n",
        "\n",
        "X_train, X_temp, y_train, y_temp = train_test_split(data, labels, test_size=0.3, random_state=1)\n",
        "X_val, X_test, y_val, y_test = train_test_split(X_temp, y_temp, test_size=(2/3), random_state=1)\n",
        "\n",
        "print(f\"Training data shape: {X_train.shape}, Training labels shape: {y_train.shape}\")\n",
        "print(f\"Validation data shape: {X_val.shape}, Validation labels shape: {y_val.shape}\")\n",
        "print(f\"Test data shape: {X_test.shape}, Test labels shape: {y_test.shape}\")\n"
      ],
      "metadata": {
        "colab": {
          "base_uri": "https://localhost:8080/"
        },
        "id": "w6PG3NFG9Xlm",
        "outputId": "10754f89-7fbb-49fd-bde1-f05ad66422d2"
      },
      "execution_count": 6,
      "outputs": [
        {
          "output_type": "stream",
          "name": "stdout",
          "text": [
            "Training data shape: (1338, 2237), Training labels shape: (1338, 5)\n",
            "Validation data shape: (191, 2237), Validation labels shape: (191, 5)\n",
            "Test data shape: (383, 2237), Test labels shape: (383, 5)\n"
          ]
        }
      ]
    },
    {
      "cell_type": "code",
      "source": [
        "import tensorflow as tf\n",
        "from tensorflow.keras.models import Sequential\n",
        "from tensorflow.keras.layers import Embedding, LSTM, Dense\n",
        "from tensorflow.keras.optimizers import Adam\n",
        "\n",
        "embedding_dim = 100  # Size of word embeddings\n",
        "\n",
        "def create_lstm_model():\n",
        "    model = Sequential()\n",
        "    model.add(Embedding(len(word_index) + 1, embedding_dim, input_length=max_len))\n",
        "    model.add(LSTM(128))\n",
        "    model.add(Dense(labels.shape[1], activation='softmax'))\n",
        "    model.compile(loss='categorical_crossentropy', optimizer=Adam(), metrics=['accuracy'])\n",
        "    return model\n",
        "\n",
        "lstm_model = create_lstm_model()\n",
        "lstm_model.fit(X_train, y_train, epochs=5, validation_data=(X_val, y_val), batch_size=32)\n"
      ],
      "metadata": {
        "colab": {
          "base_uri": "https://localhost:8080/"
        },
        "id": "C4fZCuks9aD0",
        "outputId": "508d3e1f-0c9c-4ebb-a312-e2defc8b5880"
      },
      "execution_count": 7,
      "outputs": [
        {
          "output_type": "stream",
          "name": "stdout",
          "text": [
            "Epoch 1/5\n",
            "42/42 [==============================] - 14s 266ms/step - loss: 1.5648 - accuracy: 0.3169 - val_loss: 1.5293 - val_accuracy: 0.5445\n",
            "Epoch 2/5\n",
            "42/42 [==============================] - 11s 263ms/step - loss: 1.1601 - accuracy: 0.8154 - val_loss: 0.7819 - val_accuracy: 0.7120\n",
            "Epoch 3/5\n",
            "42/42 [==============================] - 10s 249ms/step - loss: 0.3501 - accuracy: 0.9148 - val_loss: 0.3294 - val_accuracy: 0.8953\n",
            "Epoch 4/5\n",
            "42/42 [==============================] - 13s 302ms/step - loss: 0.3076 - accuracy: 0.9477 - val_loss: 0.4766 - val_accuracy: 0.8429\n",
            "Epoch 5/5\n",
            "42/42 [==============================] - 9s 206ms/step - loss: 0.2930 - accuracy: 0.9141 - val_loss: 0.6231 - val_accuracy: 0.7749\n"
          ]
        },
        {
          "output_type": "execute_result",
          "data": {
            "text/plain": [
              "<keras.src.callbacks.History at 0x7dfadcf0b4c0>"
            ]
          },
          "metadata": {},
          "execution_count": 7
        }
      ]
    },
    {
      "cell_type": "code",
      "source": [
        "from tensorflow.keras.layers import GRU\n",
        "\n",
        "def create_gru_model():\n",
        "    model = Sequential()\n",
        "    model.add(Embedding(len(word_index) + 1, embedding_dim, input_length=max_len))\n",
        "    model.add(GRU(128))\n",
        "    model.add(Dense(labels.shape[1], activation='softmax'))\n",
        "    model.compile(loss='categorical_crossentropy', optimizer=Adam(), metrics=['accuracy'])\n",
        "    return model\n",
        "\n",
        "gru_model = create_gru_model()\n",
        "gru_model.fit(X_train, y_train, epochs=5, validation_data=(X_val, y_val), batch_size=32)\n"
      ],
      "metadata": {
        "colab": {
          "base_uri": "https://localhost:8080/"
        },
        "id": "CRnqc04j9cr0",
        "outputId": "2694def8-0482-4d53-f54b-8b3d44c7e0ec"
      },
      "execution_count": 8,
      "outputs": [
        {
          "output_type": "stream",
          "name": "stdout",
          "text": [
            "Epoch 1/5\n",
            "42/42 [==============================] - 13s 266ms/step - loss: 1.5700 - accuracy: 0.2735 - val_loss: 1.5380 - val_accuracy: 0.3037\n",
            "Epoch 2/5\n",
            "42/42 [==============================] - 10s 240ms/step - loss: 1.1959 - accuracy: 0.5306 - val_loss: 1.1074 - val_accuracy: 0.5759\n",
            "Epoch 3/5\n",
            "42/42 [==============================] - 8s 190ms/step - loss: 0.4110 - accuracy: 0.9081 - val_loss: 0.6663 - val_accuracy: 0.7906\n",
            "Epoch 4/5\n",
            "42/42 [==============================] - 10s 240ms/step - loss: 0.0337 - accuracy: 0.9948 - val_loss: 0.6508 - val_accuracy: 0.7696\n",
            "Epoch 5/5\n",
            "42/42 [==============================] - 9s 223ms/step - loss: 0.0064 - accuracy: 0.9993 - val_loss: 0.5470 - val_accuracy: 0.8272\n"
          ]
        },
        {
          "output_type": "execute_result",
          "data": {
            "text/plain": [
              "<keras.src.callbacks.History at 0x7dfabc14d090>"
            ]
          },
          "metadata": {},
          "execution_count": 8
        }
      ]
    },
    {
      "cell_type": "code",
      "source": [
        "from sklearn.metrics import accuracy_score, precision_score, recall_score\n",
        "import numpy as np\n",
        "\n",
        "def evaluate_model(model, X_test, y_test):\n",
        "    y_pred = model.predict(X_test)\n",
        "    y_pred_classes = np.argmax(y_pred, axis=1)\n",
        "    y_true = np.argmax(y_test, axis=1)\n",
        "\n",
        "    accuracy = accuracy_score(y_true, y_pred_classes)\n",
        "    precision = precision_score(y_true, y_pred_classes, average='weighted')\n",
        "    recall = recall_score(y_true, y_pred_classes, average='weighted')\n",
        "\n",
        "    return accuracy, precision, recall\n",
        "\n",
        "lstm_accuracy, lstm_precision, lstm_recall = evaluate_model(lstm_model, X_test, y_test)\n",
        "lstm_params = lstm_model.count_params()\n",
        "\n",
        "print(f\"LSTM Model Accuracy: {lstm_accuracy}\")\n",
        "print(f\"LSTM Model Precision: {lstm_precision}\")\n",
        "print(f\"LSTM Model Recall: {lstm_recall}\")\n",
        "print(f\"LSTM Model Parameters: {lstm_params}\")\n"
      ],
      "metadata": {
        "colab": {
          "base_uri": "https://localhost:8080/"
        },
        "id": "xQ1fcn7F9mZU",
        "outputId": "cbca76b6-d3d2-454f-9f8c-164ec86c1fe4"
      },
      "execution_count": 9,
      "outputs": [
        {
          "output_type": "stream",
          "name": "stdout",
          "text": [
            "12/12 [==============================] - 1s 37ms/step\n",
            "LSTM Model Accuracy: 0.793733681462141\n",
            "LSTM Model Precision: 0.8049712368362776\n",
            "LSTM Model Recall: 0.793733681462141\n",
            "LSTM Model Parameters: 3324893\n"
          ]
        }
      ]
    },
    {
      "cell_type": "code",
      "source": [
        "gru_accuracy, gru_precision, gru_recall = evaluate_model(gru_model, X_test, y_test)\n",
        "gru_params = gru_model.count_params()\n",
        "\n",
        "print(f\"GRU Model Accuracy: {gru_accuracy}\")\n",
        "print(f\"GRU Model Precision: {gru_precision}\")\n",
        "print(f\"GRU Model Recall: {gru_recall}\")\n",
        "print(f\"GRU Model Parameters: {gru_params}\")\n"
      ],
      "metadata": {
        "colab": {
          "base_uri": "https://localhost:8080/"
        },
        "id": "ZIl1Q26t9pBz",
        "outputId": "1fb27299-ee5e-4b41-b2ef-d132d8c38cea"
      },
      "execution_count": 10,
      "outputs": [
        {
          "output_type": "stream",
          "name": "stdout",
          "text": [
            "12/12 [==============================] - 1s 40ms/step\n",
            "GRU Model Accuracy: 0.814621409921671\n",
            "GRU Model Precision: 0.8186818651008703\n",
            "GRU Model Recall: 0.814621409921671\n",
            "GRU Model Parameters: 3295965\n"
          ]
        }
      ]
    },
    {
      "cell_type": "code",
      "source": [
        "from tensorflow.keras.layers import Activation\n",
        "\n",
        "activation_functions = ['relu', 'tanh', 'sigmoid', 'elu', 'softmax']\n",
        "\n",
        "results = []\n",
        "\n",
        "for activation in activation_functions:\n",
        "    lstm_model = Sequential()\n",
        "    lstm_model.add(Embedding(len(word_index) + 1, embedding_dim, input_length=max_len))\n",
        "    lstm_model.add(LSTM(128))\n",
        "    lstm_model.add(Dense(labels.shape[1]))\n",
        "    lstm_model.add(Activation(activation))\n",
        "    lstm_model.compile(loss='categorical_crossentropy', optimizer=Adam(), metrics=['accuracy'])\n",
        "    lstm_model.fit(X_train, y_train, epochs=5, validation_data=(X_val, y_val), batch_size=32)\n",
        "\n",
        "    lstm_accuracy, lstm_precision, lstm_recall = evaluate_model(lstm_model, X_test, y_test)\n",
        "    results.append((f'LSTM with {activation}', lstm_accuracy, lstm_precision, lstm_recall))\n",
        "\n",
        "    gru_model = Sequential()\n",
        "    gru_model.add(Embedding(len(word_index) + 1, embedding_dim, input_length=max_len))\n",
        "    gru_model.add(GRU(128))\n",
        "    gru_model.add(Dense(labels.shape[1]))\n",
        "    gru_model.add(Activation(activation))\n",
        "    gru_model.compile(loss='categorical_crossentropy', optimizer=Adam(), metrics=['accuracy'])\n",
        "    gru_model.fit(X_train, y_train, epochs=5, validation_data=(X_val, y_val), batch_size=32)\n",
        "\n",
        "    gru_accuracy, gru_precision, gru_recall = evaluate_model(gru_model, X_test, y_test)\n",
        "    results.append((f'GRU with {activation}', gru_accuracy, gru_precision, gru_recall))\n",
        "\n",
        "with open('activation_results.txt', 'w') as f:\n",
        "    for result in results:\n",
        "        f.write(f\"{result[0]}:\\nAccuracy: {result[1]}\\nPrecision: {result[2]}\\nRecall: {result[3]}\\n\\n\")\n"
      ],
      "metadata": {
        "colab": {
          "base_uri": "https://localhost:8080/"
        },
        "id": "53yRgRGa9svb",
        "outputId": "7a8c15f0-1454-47a1-d0fb-5a563f7b03aa"
      },
      "execution_count": 11,
      "outputs": [
        {
          "output_type": "stream",
          "name": "stdout",
          "text": [
            "Epoch 1/5\n",
            "42/42 [==============================] - 15s 245ms/step - loss: nan - accuracy: 0.2765 - val_loss: nan - val_accuracy: 0.2513\n",
            "Epoch 2/5\n",
            "42/42 [==============================] - 10s 227ms/step - loss: nan - accuracy: 0.2735 - val_loss: nan - val_accuracy: 0.2513\n",
            "Epoch 3/5\n",
            "42/42 [==============================] - 8s 201ms/step - loss: nan - accuracy: 0.2735 - val_loss: nan - val_accuracy: 0.2513\n",
            "Epoch 4/5\n",
            "42/42 [==============================] - 8s 189ms/step - loss: nan - accuracy: 0.2735 - val_loss: nan - val_accuracy: 0.2513\n",
            "Epoch 5/5\n",
            "42/42 [==============================] - 9s 206ms/step - loss: nan - accuracy: 0.2735 - val_loss: nan - val_accuracy: 0.2513\n",
            "12/12 [==============================] - 1s 38ms/step\n"
          ]
        },
        {
          "output_type": "stream",
          "name": "stderr",
          "text": [
            "/usr/local/lib/python3.10/dist-packages/sklearn/metrics/_classification.py:1344: UndefinedMetricWarning: Precision is ill-defined and being set to 0.0 in labels with no predicted samples. Use `zero_division` parameter to control this behavior.\n",
            "  _warn_prf(average, modifier, msg_start, len(result))\n"
          ]
        },
        {
          "output_type": "stream",
          "name": "stdout",
          "text": [
            "Epoch 1/5\n",
            "42/42 [==============================] - 12s 231ms/step - loss: nan - accuracy: 0.2676 - val_loss: nan - val_accuracy: 0.2513\n",
            "Epoch 2/5\n",
            "42/42 [==============================] - 7s 174ms/step - loss: nan - accuracy: 0.2735 - val_loss: nan - val_accuracy: 0.2513\n",
            "Epoch 3/5\n",
            "42/42 [==============================] - 9s 209ms/step - loss: nan - accuracy: 0.2735 - val_loss: nan - val_accuracy: 0.2513\n",
            "Epoch 4/5\n",
            "42/42 [==============================] - 7s 163ms/step - loss: nan - accuracy: 0.2735 - val_loss: nan - val_accuracy: 0.2513\n",
            "Epoch 5/5\n",
            "42/42 [==============================] - 8s 198ms/step - loss: nan - accuracy: 0.2735 - val_loss: nan - val_accuracy: 0.2513\n",
            "12/12 [==============================] - 1s 36ms/step\n"
          ]
        },
        {
          "output_type": "stream",
          "name": "stderr",
          "text": [
            "/usr/local/lib/python3.10/dist-packages/sklearn/metrics/_classification.py:1344: UndefinedMetricWarning: Precision is ill-defined and being set to 0.0 in labels with no predicted samples. Use `zero_division` parameter to control this behavior.\n",
            "  _warn_prf(average, modifier, msg_start, len(result))\n"
          ]
        },
        {
          "output_type": "stream",
          "name": "stdout",
          "text": [
            "Epoch 1/5\n",
            "42/42 [==============================] - 12s 210ms/step - loss: 8.6499 - accuracy: 0.2010 - val_loss: 7.8899 - val_accuracy: 0.2147\n",
            "Epoch 2/5\n",
            "42/42 [==============================] - 9s 208ms/step - loss: 8.4001 - accuracy: 0.2392 - val_loss: 10.0422 - val_accuracy: 0.2251\n",
            "Epoch 3/5\n",
            "42/42 [==============================] - 8s 202ms/step - loss: 8.9053 - accuracy: 0.2795 - val_loss: 10.1266 - val_accuracy: 0.2513\n",
            "Epoch 4/5\n",
            "42/42 [==============================] - 7s 163ms/step - loss: 10.9984 - accuracy: 0.2735 - val_loss: 10.1266 - val_accuracy: 0.2513\n",
            "Epoch 5/5\n",
            "42/42 [==============================] - 8s 183ms/step - loss: 10.9984 - accuracy: 0.2735 - val_loss: 10.1266 - val_accuracy: 0.2513\n",
            "12/12 [==============================] - 1s 26ms/step\n"
          ]
        },
        {
          "output_type": "stream",
          "name": "stderr",
          "text": [
            "/usr/local/lib/python3.10/dist-packages/sklearn/metrics/_classification.py:1344: UndefinedMetricWarning: Precision is ill-defined and being set to 0.0 in labels with no predicted samples. Use `zero_division` parameter to control this behavior.\n",
            "  _warn_prf(average, modifier, msg_start, len(result))\n"
          ]
        },
        {
          "output_type": "stream",
          "name": "stdout",
          "text": [
            "Epoch 1/5\n",
            "42/42 [==============================] - 12s 224ms/step - loss: 2.4574 - accuracy: 0.1330 - val_loss: 1.5133 - val_accuracy: 0.0942\n",
            "Epoch 2/5\n",
            "42/42 [==============================] - 7s 176ms/step - loss: 1.2195 - accuracy: 0.0239 - val_loss: 1.3336 - val_accuracy: 0.0838\n",
            "Epoch 3/5\n",
            "42/42 [==============================] - 8s 195ms/step - loss: 5.6594 - accuracy: 0.0052 - val_loss: 9.6722 - val_accuracy: 0.1047\n",
            "Epoch 4/5\n",
            "42/42 [==============================] - 7s 168ms/step - loss: 11.4408 - accuracy: 0.1592 - val_loss: 6.4502 - val_accuracy: 0.2094\n",
            "Epoch 5/5\n",
            "42/42 [==============================] - 7s 179ms/step - loss: 6.2882 - accuracy: 0.1966 - val_loss: 5.8276 - val_accuracy: 0.2094\n",
            "12/12 [==============================] - 1s 25ms/step\n"
          ]
        },
        {
          "output_type": "stream",
          "name": "stderr",
          "text": [
            "/usr/local/lib/python3.10/dist-packages/sklearn/metrics/_classification.py:1344: UndefinedMetricWarning: Precision is ill-defined and being set to 0.0 in labels with no predicted samples. Use `zero_division` parameter to control this behavior.\n",
            "  _warn_prf(average, modifier, msg_start, len(result))\n"
          ]
        },
        {
          "output_type": "stream",
          "name": "stdout",
          "text": [
            "Epoch 1/5\n",
            "42/42 [==============================] - 11s 213ms/step - loss: 1.5035 - accuracy: 0.3132 - val_loss: 1.2231 - val_accuracy: 0.4607\n",
            "Epoch 2/5\n",
            "42/42 [==============================] - 7s 170ms/step - loss: 0.9477 - accuracy: 0.6510 - val_loss: 0.9985 - val_accuracy: 0.5550\n",
            "Epoch 3/5\n",
            "42/42 [==============================] - 7s 172ms/step - loss: 0.8143 - accuracy: 0.7309 - val_loss: 0.7680 - val_accuracy: 0.7539\n",
            "Epoch 4/5\n",
            "42/42 [==============================] - 8s 186ms/step - loss: 0.2810 - accuracy: 0.9327 - val_loss: 0.5170 - val_accuracy: 0.8220\n",
            "Epoch 5/5\n",
            "42/42 [==============================] - 6s 147ms/step - loss: 0.2704 - accuracy: 0.9380 - val_loss: 0.8037 - val_accuracy: 0.7382\n",
            "12/12 [==============================] - 1s 39ms/step\n",
            "Epoch 1/5\n",
            "42/42 [==============================] - 11s 207ms/step - loss: 1.5641 - accuracy: 0.2870 - val_loss: 1.5359 - val_accuracy: 0.2513\n",
            "Epoch 2/5\n",
            "42/42 [==============================] - 8s 185ms/step - loss: 1.1664 - accuracy: 0.5172 - val_loss: 0.9538 - val_accuracy: 0.6597\n",
            "Epoch 3/5\n",
            "42/42 [==============================] - 6s 154ms/step - loss: 0.2549 - accuracy: 0.9410 - val_loss: 0.6178 - val_accuracy: 0.7801\n",
            "Epoch 4/5\n",
            "42/42 [==============================] - 8s 183ms/step - loss: 0.0319 - accuracy: 0.9963 - val_loss: 0.4750 - val_accuracy: 0.8325\n",
            "Epoch 5/5\n",
            "42/42 [==============================] - 6s 152ms/step - loss: 0.0067 - accuracy: 0.9985 - val_loss: 0.5078 - val_accuracy: 0.8534\n",
            "12/12 [==============================] - 1s 26ms/step\n",
            "Epoch 1/5\n",
            "42/42 [==============================] - 11s 192ms/step - loss: 7.5611 - accuracy: 0.1495 - val_loss: 10.2953 - val_accuracy: 0.2513\n",
            "Epoch 2/5\n",
            "42/42 [==============================] - 8s 200ms/step - loss: 10.0828 - accuracy: 0.2735 - val_loss: 10.2953 - val_accuracy: 0.2513\n",
            "Epoch 3/5\n",
            "42/42 [==============================] - 7s 170ms/step - loss: 10.0828 - accuracy: 0.2735 - val_loss: 10.2953 - val_accuracy: 0.2513\n",
            "Epoch 4/5\n",
            "42/42 [==============================] - 8s 188ms/step - loss: 10.0828 - accuracy: 0.2735 - val_loss: 10.2953 - val_accuracy: 0.2513\n",
            "Epoch 5/5\n",
            "42/42 [==============================] - 7s 157ms/step - loss: 10.0828 - accuracy: 0.2735 - val_loss: 10.2953 - val_accuracy: 0.2513\n",
            "12/12 [==============================] - 1s 34ms/step\n"
          ]
        },
        {
          "output_type": "stream",
          "name": "stderr",
          "text": [
            "/usr/local/lib/python3.10/dist-packages/sklearn/metrics/_classification.py:1344: UndefinedMetricWarning: Precision is ill-defined and being set to 0.0 in labels with no predicted samples. Use `zero_division` parameter to control this behavior.\n",
            "  _warn_prf(average, modifier, msg_start, len(result))\n"
          ]
        },
        {
          "output_type": "stream",
          "name": "stdout",
          "text": [
            "Epoch 1/5\n",
            "42/42 [==============================] - 9s 173ms/step - loss: 7.6199 - accuracy: 0.2205 - val_loss: 10.0424 - val_accuracy: 0.2618\n",
            "Epoch 2/5\n",
            "42/42 [==============================] - 8s 185ms/step - loss: 9.3026 - accuracy: 0.2220 - val_loss: 7.8092 - val_accuracy: 0.2408\n",
            "Epoch 3/5\n",
            "42/42 [==============================] - 7s 160ms/step - loss: 8.0430 - accuracy: 0.2145 - val_loss: 9.7890 - val_accuracy: 0.2356\n",
            "Epoch 4/5\n",
            "42/42 [==============================] - 8s 179ms/step - loss: 9.5652 - accuracy: 0.2332 - val_loss: 9.4514 - val_accuracy: 0.2565\n",
            "Epoch 5/5\n",
            "42/42 [==============================] - 7s 158ms/step - loss: 9.5889 - accuracy: 0.2377 - val_loss: 9.2827 - val_accuracy: 0.2565\n",
            "12/12 [==============================] - 1s 35ms/step\n"
          ]
        },
        {
          "output_type": "stream",
          "name": "stderr",
          "text": [
            "/usr/local/lib/python3.10/dist-packages/sklearn/metrics/_classification.py:1344: UndefinedMetricWarning: Precision is ill-defined and being set to 0.0 in labels with no predicted samples. Use `zero_division` parameter to control this behavior.\n",
            "  _warn_prf(average, modifier, msg_start, len(result))\n"
          ]
        },
        {
          "output_type": "stream",
          "name": "stdout",
          "text": [
            "Epoch 1/5\n",
            "42/42 [==============================] - 11s 215ms/step - loss: 1.5591 - accuracy: 0.2810 - val_loss: 1.5976 - val_accuracy: 0.2513\n",
            "Epoch 2/5\n",
            "42/42 [==============================] - 7s 173ms/step - loss: 0.9162 - accuracy: 0.6390 - val_loss: 0.5554 - val_accuracy: 0.8534\n",
            "Epoch 3/5\n",
            "42/42 [==============================] - 7s 175ms/step - loss: 0.3286 - accuracy: 0.9312 - val_loss: 0.5020 - val_accuracy: 0.8325\n",
            "Epoch 4/5\n",
            "42/42 [==============================] - 7s 165ms/step - loss: 0.0967 - accuracy: 0.9836 - val_loss: 0.4138 - val_accuracy: 0.8639\n",
            "Epoch 5/5\n",
            "42/42 [==============================] - 7s 153ms/step - loss: 0.0334 - accuracy: 0.9978 - val_loss: 0.2214 - val_accuracy: 0.9424\n",
            "12/12 [==============================] - 1s 36ms/step\n",
            "Epoch 1/5\n",
            "42/42 [==============================] - 10s 180ms/step - loss: 1.5684 - accuracy: 0.2623 - val_loss: 1.5204 - val_accuracy: 0.2880\n",
            "Epoch 2/5\n",
            "42/42 [==============================] - 7s 174ms/step - loss: 1.3334 - accuracy: 0.6510 - val_loss: 1.1854 - val_accuracy: 0.6335\n",
            "Epoch 3/5\n",
            "42/42 [==============================] - 6s 151ms/step - loss: 0.4558 - accuracy: 0.8954 - val_loss: 0.4799 - val_accuracy: 0.8482\n",
            "Epoch 4/5\n",
            "42/42 [==============================] - 7s 173ms/step - loss: 0.0780 - accuracy: 0.9858 - val_loss: 0.5990 - val_accuracy: 0.8168\n",
            "Epoch 5/5\n",
            "42/42 [==============================] - 6s 138ms/step - loss: 0.0196 - accuracy: 0.9985 - val_loss: 0.4484 - val_accuracy: 0.8691\n",
            "12/12 [==============================] - 1s 25ms/step\n"
          ]
        }
      ]
    },
    {
      "cell_type": "code",
      "source": [
        "from sklearn.model_selection import KFold\n",
        "\n",
        "def cross_validate_model(model_creator, X, y, n_splits=3):\n",
        "    kfold = KFold(n_splits=n_splits, shuffle=True, random_state=1)\n",
        "    accuracies = []\n",
        "    class_accuracies = []\n",
        "\n",
        "    for train_index, test_index in kfold.split(X):\n",
        "        X_train, X_test = X[train_index], X[test_index]\n",
        "        y_train, y_test = y[train_index], y[test_index]\n",
        "\n",
        "        model = model_creator()\n",
        "        model.fit(X_train, y_train, epochs=5, batch_size=32)\n",
        "\n",
        "        y_pred = model.predict(X_test)\n",
        "        y_pred_classes = np.argmax(y_pred, axis=1)\n",
        "        y_true = np.argmax(y_test, axis=1)\n",
        "\n",
        "        accuracy = accuracy_score(y_true, y_pred_classes)\n",
        "        class_accuracy = [accuracy_score(y_true == i, y_pred_classes == i) for i in range(labels.shape[1])]\n",
        "\n",
        "        accuracies.append(accuracy)\n",
        "        class_accuracies.append(class_accuracy)\n",
        "\n",
        "    return accuracies, class_accuracies\n",
        "\n",
        "\n",
        "lstm_accuracies, lstm_class_accuracies = cross_validate_model(create_lstm_model, data, labels)\n",
        "gru_accuracies, gru_class_accuracies = cross_validate_model(create_gru_model, data, labels)\n",
        "\n",
        "# Save the results to a file\n",
        "with open('cross_validation_results.txt', 'w') as f:\n",
        "    f.write(f\"LSTM Model Cross-Validation:\\nAccuracies: {lstm_accuracies}\\nClass-wise Accuracies: {lstm_class_accuracies}\\n\\n\")\n",
        "    f.write(f\"GRU Model Cross-Validation:\\nAccuracies: {gru_accuracies}\\nClass-wise Accuracies: {gru_class_accuracies}\\n\")\n"
      ],
      "metadata": {
        "colab": {
          "base_uri": "https://localhost:8080/"
        },
        "id": "gpNGeOwY9vSJ",
        "outputId": "572b3e4d-fa30-47af-a143-2b404e4822ba"
      },
      "execution_count": 13,
      "outputs": [
        {
          "output_type": "stream",
          "name": "stdout",
          "text": [
            "Epoch 1/5\n",
            "40/40 [==============================] - 10s 180ms/step - loss: 1.5154 - accuracy: 0.2991\n",
            "Epoch 2/5\n",
            "40/40 [==============================] - 7s 176ms/step - loss: 1.0631 - accuracy: 0.5777\n",
            "Epoch 3/5\n",
            "40/40 [==============================] - 7s 169ms/step - loss: 0.5907 - accuracy: 0.8265\n",
            "Epoch 4/5\n",
            "40/40 [==============================] - 7s 169ms/step - loss: 0.2158 - accuracy: 0.9403\n",
            "Epoch 5/5\n",
            "40/40 [==============================] - 6s 160ms/step - loss: 0.0511 - accuracy: 0.9953\n",
            "20/20 [==============================] - 1s 33ms/step\n",
            "Epoch 1/5\n",
            "40/40 [==============================] - 10s 197ms/step - loss: 1.5684 - accuracy: 0.3075\n",
            "Epoch 2/5\n",
            "40/40 [==============================] - 6s 159ms/step - loss: 1.1053 - accuracy: 0.6573\n",
            "Epoch 3/5\n",
            "40/40 [==============================] - 7s 171ms/step - loss: 0.3037 - accuracy: 0.9224\n",
            "Epoch 4/5\n",
            "40/40 [==============================] - 6s 145ms/step - loss: 0.1556 - accuracy: 0.9788\n",
            "Epoch 5/5\n",
            "40/40 [==============================] - 7s 166ms/step - loss: 0.0262 - accuracy: 0.9992\n",
            "20/20 [==============================] - 1s 39ms/step\n",
            "Epoch 1/5\n",
            "40/40 [==============================] - 10s 192ms/step - loss: 1.5693 - accuracy: 0.2824\n",
            "Epoch 2/5\n",
            "40/40 [==============================] - 7s 170ms/step - loss: 1.0988 - accuracy: 0.5075\n",
            "Epoch 3/5\n",
            "40/40 [==============================] - 6s 151ms/step - loss: 0.8195 - accuracy: 0.8675\n",
            "Epoch 4/5\n",
            "40/40 [==============================] - 8s 194ms/step - loss: 0.1826 - accuracy: 0.9663\n",
            "Epoch 5/5\n",
            "40/40 [==============================] - 6s 138ms/step - loss: 0.0313 - accuracy: 0.9945\n",
            "20/20 [==============================] - 1s 33ms/step\n",
            "Epoch 1/5\n",
            "40/40 [==============================] - 9s 190ms/step - loss: 1.5729 - accuracy: 0.2645\n",
            "Epoch 2/5\n",
            "40/40 [==============================] - 6s 145ms/step - loss: 1.5441 - accuracy: 0.4874\n",
            "Epoch 3/5\n",
            "40/40 [==============================] - 7s 170ms/step - loss: 0.7325 - accuracy: 0.8108\n",
            "Epoch 4/5\n",
            "40/40 [==============================] - 6s 151ms/step - loss: 0.1317 - accuracy: 0.9757\n",
            "Epoch 5/5\n",
            "40/40 [==============================] - 7s 168ms/step - loss: 0.0286 - accuracy: 0.9984\n",
            "20/20 [==============================] - 1s 24ms/step\n",
            "Epoch 1/5\n",
            "40/40 [==============================] - 8s 150ms/step - loss: 1.5783 - accuracy: 0.2643\n",
            "Epoch 2/5\n",
            "40/40 [==============================] - 7s 172ms/step - loss: 1.2853 - accuracy: 0.5694\n",
            "Epoch 3/5\n",
            "40/40 [==============================] - 6s 140ms/step - loss: 0.3442 - accuracy: 0.9263\n",
            "Epoch 4/5\n",
            "40/40 [==============================] - 7s 164ms/step - loss: 0.0585 - accuracy: 0.9906\n",
            "Epoch 5/5\n",
            "40/40 [==============================] - 6s 139ms/step - loss: 0.0102 - accuracy: 0.9992\n",
            "20/20 [==============================] - 1s 31ms/step\n",
            "Epoch 1/5\n",
            "40/40 [==============================] - 9s 173ms/step - loss: 1.5717 - accuracy: 0.2706\n",
            "Epoch 2/5\n",
            "40/40 [==============================] - 6s 153ms/step - loss: 1.2493 - accuracy: 0.5059\n",
            "Epoch 3/5\n",
            "40/40 [==============================] - 7s 170ms/step - loss: 0.4577 - accuracy: 0.9380\n",
            "Epoch 4/5\n",
            "40/40 [==============================] - 6s 152ms/step - loss: 0.0634 - accuracy: 0.9906\n",
            "Epoch 5/5\n",
            "40/40 [==============================] - 6s 152ms/step - loss: 0.0122 - accuracy: 1.0000\n",
            "20/20 [==============================] - 1s 32ms/step\n"
          ]
        }
      ]
    },
    {
      "cell_type": "code",
      "source": [
        "from sklearn.model_selection import KFold\n",
        "from sklearn.metrics import accuracy_score\n",
        "\n",
        "def cross_validate_model(model_creator, X, y, n_splits=3):\n",
        "    kfold = KFold(n_splits=n_splits, shuffle=True, random_state=1)\n",
        "    accuracies = []\n",
        "    class_accuracies = []\n",
        "\n",
        "    for fold_idx, (train_index, test_index) in enumerate(kfold.split(X)):\n",
        "        X_train, X_test = X[train_index], X[test_index]\n",
        "        y_train, y_test = y[train_index], y[test_index]\n",
        "\n",
        "        model = model_creator()\n",
        "        model.fit(X_train, y_train, epochs=5, batch_size=32)\n",
        "\n",
        "        y_pred = model.predict(X_test)\n",
        "        y_pred_classes = np.argmax(y_pred, axis=1)\n",
        "        y_true = np.argmax(y_test, axis=1)\n",
        "\n",
        "        accuracy = accuracy_score(y_true, y_pred_classes)\n",
        "        accuracies.append(accuracy)\n",
        "\n",
        "        class_accuracy = []\n",
        "        for class_idx in range(y.shape[1]):\n",
        "            class_accuracy.append(accuracy_score(y_true[y_true == class_idx], y_pred_classes[y_true == class_idx]))\n",
        "        class_accuracies.append(class_accuracy)\n",
        "\n",
        "        print(f\"Fold {fold_idx+1} - Overall Accuracy: {accuracy}, Class-wise Accuracies: {class_accuracy}\")\n",
        "\n",
        "    return accuracies, class_accuracies\n",
        "\n",
        "# Perform cross-validation for LSTM model\n",
        "lstm_accuracies, lstm_class_accuracies = cross_validate_model(create_lstm_model, data, labels)\n",
        "\n",
        "# Perform cross-validation for GRU model\n",
        "gru_accuracies, gru_class_accuracies = cross_validate_model(create_gru_model, data, labels)\n"
      ],
      "metadata": {
        "colab": {
          "base_uri": "https://localhost:8080/"
        },
        "id": "Ez541fosGUUj",
        "outputId": "f281e81f-e362-4ae9-df67-3f1b830d6df3"
      },
      "execution_count": 14,
      "outputs": [
        {
          "output_type": "stream",
          "name": "stdout",
          "text": [
            "Epoch 1/5\n",
            "40/40 [==============================] - 11s 163ms/step - loss: 1.5356 - accuracy: 0.3046\n",
            "Epoch 2/5\n",
            "40/40 [==============================] - 7s 188ms/step - loss: 1.0577 - accuracy: 0.6429\n",
            "Epoch 3/5\n",
            "40/40 [==============================] - 5s 135ms/step - loss: 0.4596 - accuracy: 0.8234\n",
            "Epoch 4/5\n",
            "40/40 [==============================] - 7s 173ms/step - loss: 0.2713 - accuracy: 0.9270\n",
            "Epoch 5/5\n",
            "40/40 [==============================] - 6s 139ms/step - loss: 0.0949 - accuracy: 0.9937\n",
            "20/20 [==============================] - 2s 50ms/step\n",
            "Fold 1 - Overall Accuracy: 0.9090909090909091, Class-wise Accuracies: [0.8950617283950617, 0.9402985074626866, 0.9793103448275862, 0.8840579710144928, 0.828125]\n",
            "Epoch 1/5\n",
            "40/40 [==============================] - 12s 229ms/step - loss: 1.5475 - accuracy: 0.2949\n",
            "Epoch 2/5\n",
            "40/40 [==============================] - 6s 147ms/step - loss: 1.0443 - accuracy: 0.6463\n",
            "Epoch 3/5\n",
            "40/40 [==============================] - 7s 178ms/step - loss: 0.7016 - accuracy: 0.7427\n",
            "Epoch 4/5\n",
            "40/40 [==============================] - 6s 149ms/step - loss: 0.3908 - accuracy: 0.8847\n",
            "Epoch 5/5\n",
            "40/40 [==============================] - 7s 176ms/step - loss: 0.1279 - accuracy: 0.9804\n",
            "20/20 [==============================] - 1s 27ms/step\n",
            "Fold 2 - Overall Accuracy: 0.8916797488226059, Class-wise Accuracies: [0.8369565217391305, 0.8512396694214877, 0.935251798561151, 0.9508196721311475, 0.9318181818181818]\n",
            "Epoch 1/5\n",
            "40/40 [==============================] - 9s 180ms/step - loss: 1.5580 - accuracy: 0.3192\n",
            "Epoch 2/5\n",
            "40/40 [==============================] - 6s 151ms/step - loss: 0.9926 - accuracy: 0.7067\n",
            "Epoch 3/5\n",
            "40/40 [==============================] - 7s 180ms/step - loss: 0.4869 - accuracy: 0.8290\n",
            "Epoch 4/5\n",
            "40/40 [==============================] - 6s 147ms/step - loss: 0.1595 - accuracy: 0.9655\n",
            "Epoch 5/5\n",
            "40/40 [==============================] - 8s 200ms/step - loss: 0.0432 - accuracy: 0.9953\n",
            "20/20 [==============================] - 1s 26ms/step\n",
            "Fold 3 - Overall Accuracy: 0.9058084772370487, Class-wise Accuracies: [0.8658536585365854, 0.9083969465648855, 0.9624060150375939, 0.8823529411764706, 0.9078014184397163]\n",
            "Epoch 1/5\n",
            "40/40 [==============================] - 8s 160ms/step - loss: 1.5741 - accuracy: 0.2865\n",
            "Epoch 2/5\n",
            "40/40 [==============================] - 7s 174ms/step - loss: 1.2684 - accuracy: 0.5408\n",
            "Epoch 3/5\n",
            "40/40 [==============================] - 6s 145ms/step - loss: 0.4395 - accuracy: 0.9019\n",
            "Epoch 4/5\n",
            "40/40 [==============================] - 7s 170ms/step - loss: 0.0874 - accuracy: 0.9843\n",
            "Epoch 5/5\n",
            "40/40 [==============================] - 7s 170ms/step - loss: 0.0137 - accuracy: 1.0000\n",
            "20/20 [==============================] - 1s 36ms/step\n",
            "Fold 1 - Overall Accuracy: 0.8322884012539185, Class-wise Accuracies: [0.9259259259259259, 0.7611940298507462, 0.9241379310344827, 0.7246376811594203, 0.7421875]\n",
            "Epoch 1/5\n",
            "40/40 [==============================] - 8s 155ms/step - loss: 1.5747 - accuracy: 0.2627\n",
            "Epoch 2/5\n",
            "40/40 [==============================] - 7s 178ms/step - loss: 1.1723 - accuracy: 0.5208\n",
            "Epoch 3/5\n",
            "40/40 [==============================] - 5s 135ms/step - loss: 0.3845 - accuracy: 0.9278\n",
            "Epoch 4/5\n",
            "40/40 [==============================] - 7s 179ms/step - loss: 0.0828 - accuracy: 0.9929\n",
            "Epoch 5/5\n",
            "40/40 [==============================] - 5s 129ms/step - loss: 0.0149 - accuracy: 0.9984\n",
            "20/20 [==============================] - 1s 24ms/step\n",
            "Fold 2 - Overall Accuracy: 0.8492935635792779, Class-wise Accuracies: [0.9184782608695652, 0.9008264462809917, 0.7769784172661871, 0.6721311475409836, 0.8636363636363636]\n",
            "Epoch 1/5\n",
            "40/40 [==============================] - 9s 179ms/step - loss: 1.5660 - accuracy: 0.2761\n",
            "Epoch 2/5\n",
            "40/40 [==============================] - 6s 160ms/step - loss: 1.3554 - accuracy: 0.6463\n",
            "Epoch 3/5\n",
            "40/40 [==============================] - 7s 162ms/step - loss: 0.7508 - accuracy: 0.9184\n",
            "Epoch 4/5\n",
            "40/40 [==============================] - 5s 130ms/step - loss: 0.1647 - accuracy: 0.9788\n",
            "Epoch 5/5\n",
            "40/40 [==============================] - 6s 161ms/step - loss: 0.0260 - accuracy: 0.9984\n",
            "20/20 [==============================] - 1s 24ms/step\n",
            "Fold 3 - Overall Accuracy: 0.6813186813186813, Class-wise Accuracies: [0.7865853658536586, 0.5801526717557252, 0.7368421052631579, 0.45588235294117646, 0.7092198581560284]\n"
          ]
        }
      ]
    },
    {
      "cell_type": "code",
      "source": [
        "def write_results_to_file(filename, model_name, accuracies, class_accuracies):\n",
        "    with open(filename, 'a') as f:\n",
        "        f.write(f\"{model_name} Results:\\n\")\n",
        "        f.write(\"Fold\\tOverall Accuracy\\tClass-wise Accuracies\\n\")\n",
        "        for i in range(len(accuracies)):\n",
        "            f.write(f\"{i+1}\\t{accuracies[i]}\\t{class_accuracies[i]}\\n\")\n",
        "        f.write(\"\\n\")\n",
        "\n",
        "# Perform cross-validation for LSTM model\n",
        "lstm_accuracies, lstm_class_accuracies = cross_validate_model(create_lstm_model, data, labels)\n",
        "\n",
        "# Write LSTM results to a file\n",
        "write_results_to_file(\"cross_validation_results_1.txt\", \"LSTM\", lstm_accuracies, lstm_class_accuracies)\n",
        "\n",
        "# Perform cross-validation for GRU model\n",
        "gru_accuracies, gru_class_accuracies = cross_validate_model(create_gru_model, data, labels)\n",
        "\n",
        "# Write GRU results to a file\n",
        "write_results_to_file(\"cross_validation_results_1.txt\", \"GRU\", gru_accuracies, gru_class_accuracies)\n"
      ],
      "metadata": {
        "colab": {
          "base_uri": "https://localhost:8080/"
        },
        "id": "x77WDy6JIhn1",
        "outputId": "48783460-98c2-4f5b-edd4-9a0417c65b0a"
      },
      "execution_count": 15,
      "outputs": [
        {
          "output_type": "stream",
          "name": "stdout",
          "text": [
            "Epoch 1/5\n",
            "40/40 [==============================] - 10s 168ms/step - loss: 1.5218 - accuracy: 0.2881\n",
            "Epoch 2/5\n",
            "40/40 [==============================] - 7s 170ms/step - loss: 1.2492 - accuracy: 0.4859\n",
            "Epoch 3/5\n",
            "40/40 [==============================] - 6s 153ms/step - loss: 0.8965 - accuracy: 0.7339\n",
            "Epoch 4/5\n",
            "40/40 [==============================] - 6s 156ms/step - loss: 0.3355 - accuracy: 0.9278\n",
            "Epoch 5/5\n",
            "40/40 [==============================] - 6s 141ms/step - loss: 0.0869 - accuracy: 0.9882\n",
            "20/20 [==============================] - 1s 33ms/step\n",
            "Fold 1 - Overall Accuracy: 0.7931034482758621, Class-wise Accuracies: [0.9259259259259259, 0.9328358208955224, 0.31724137931034485, 0.8695652173913043, 0.9765625]\n",
            "Epoch 1/5\n",
            "40/40 [==============================] - 9s 157ms/step - loss: 1.5752 - accuracy: 0.3129\n",
            "Epoch 2/5\n",
            "40/40 [==============================] - 7s 182ms/step - loss: 1.0069 - accuracy: 0.6306\n",
            "Epoch 3/5\n",
            "40/40 [==============================] - 6s 155ms/step - loss: 0.4534 - accuracy: 0.8933\n",
            "Epoch 4/5\n",
            "40/40 [==============================] - 7s 166ms/step - loss: 0.1181 - accuracy: 0.9812\n",
            "Epoch 5/5\n",
            "40/40 [==============================] - 5s 133ms/step - loss: 0.0363 - accuracy: 0.9945\n",
            "20/20 [==============================] - 1s 25ms/step\n",
            "Fold 2 - Overall Accuracy: 0.9042386185243328, Class-wise Accuracies: [0.9239130434782609, 0.9008264462809917, 0.920863309352518, 0.6721311475409836, 0.9696969696969697]\n",
            "Epoch 1/5\n",
            "40/40 [==============================] - 9s 180ms/step - loss: 1.5500 - accuracy: 0.3129\n",
            "Epoch 2/5\n",
            "40/40 [==============================] - 6s 156ms/step - loss: 1.0422 - accuracy: 0.6282\n",
            "Epoch 3/5\n",
            "40/40 [==============================] - 7s 171ms/step - loss: 0.4160 - accuracy: 0.8933\n",
            "Epoch 4/5\n",
            "40/40 [==============================] - 5s 139ms/step - loss: 0.1046 - accuracy: 0.9780\n",
            "Epoch 5/5\n",
            "40/40 [==============================] - 6s 160ms/step - loss: 0.0394 - accuracy: 0.9984\n",
            "20/20 [==============================] - 1s 26ms/step\n",
            "Fold 3 - Overall Accuracy: 0.9419152276295133, Class-wise Accuracies: [0.9329268292682927, 0.9541984732824428, 0.9699248120300752, 0.8382352941176471, 0.9645390070921985]\n",
            "Epoch 1/5\n",
            "40/40 [==============================] - 9s 181ms/step - loss: 1.5697 - accuracy: 0.2661\n",
            "Epoch 2/5\n",
            "40/40 [==============================] - 7s 172ms/step - loss: 1.1866 - accuracy: 0.5675\n",
            "Epoch 3/5\n",
            "40/40 [==============================] - 7s 175ms/step - loss: 0.3480 - accuracy: 0.9223\n",
            "Epoch 4/5\n",
            "40/40 [==============================] - 5s 134ms/step - loss: 0.0548 - accuracy: 0.9898\n",
            "Epoch 5/5\n",
            "40/40 [==============================] - 6s 163ms/step - loss: 0.0105 - accuracy: 1.0000\n",
            "20/20 [==============================] - 1s 31ms/step\n",
            "Fold 1 - Overall Accuracy: 0.8699059561128527, Class-wise Accuracies: [0.9197530864197531, 0.835820895522388, 0.8896551724137931, 0.8695652173913043, 0.8203125]\n",
            "Epoch 1/5\n",
            "40/40 [==============================] - 9s 170ms/step - loss: 1.5768 - accuracy: 0.2478\n",
            "Epoch 2/5\n",
            "40/40 [==============================] - 6s 158ms/step - loss: 1.3799 - accuracy: 0.5796\n",
            "Epoch 3/5\n",
            "40/40 [==============================] - 6s 164ms/step - loss: 0.8755 - accuracy: 0.8839\n",
            "Epoch 4/5\n",
            "40/40 [==============================] - 5s 138ms/step - loss: 0.1832 - accuracy: 0.9600\n",
            "Epoch 5/5\n",
            "40/40 [==============================] - 7s 166ms/step - loss: 0.0332 - accuracy: 0.9961\n",
            "20/20 [==============================] - 1s 25ms/step\n",
            "Fold 2 - Overall Accuracy: 0.8053375196232339, Class-wise Accuracies: [0.8641304347826086, 0.7933884297520661, 0.8273381294964028, 0.6229508196721312, 0.7954545454545454]\n",
            "Epoch 1/5\n",
            "40/40 [==============================] - 9s 176ms/step - loss: 1.5707 - accuracy: 0.2722\n",
            "Epoch 2/5\n",
            "40/40 [==============================] - 6s 147ms/step - loss: 1.2865 - accuracy: 0.5914\n",
            "Epoch 3/5\n",
            "40/40 [==============================] - 6s 155ms/step - loss: 0.5196 - accuracy: 0.9020\n",
            "Epoch 4/5\n",
            "40/40 [==============================] - 6s 153ms/step - loss: 0.0825 - accuracy: 0.9937\n",
            "Epoch 5/5\n",
            "40/40 [==============================] - 7s 168ms/step - loss: 0.0105 - accuracy: 1.0000\n",
            "20/20 [==============================] - 1s 31ms/step\n",
            "Fold 3 - Overall Accuracy: 0.8461538461538461, Class-wise Accuracies: [0.8414634146341463, 0.9007633587786259, 0.8721804511278195, 0.6617647058823529, 0.8652482269503546]\n"
          ]
        }
      ]
    },
    {
      "cell_type": "code",
      "source": [],
      "metadata": {
        "id": "ymEx9SMFJfLL"
      },
      "execution_count": null,
      "outputs": []
    }
  ]
}